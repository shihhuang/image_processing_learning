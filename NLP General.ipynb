{
 "cells": [
  {
   "cell_type": "markdown",
   "id": "550c601e-4f88-49c5-b53b-35da41010757",
   "metadata": {},
   "source": [
    "# **Set up**\n",
    "\n",
    "Please follow the instructions from README.md to set up the virtual environment. Make sure when you run the notebook you are using the kernel you set up which uses the virtual environment.\n",
    "\n",
    "Learning materials:\n",
    "* Tensorflow: <https://www.youtube.com/playlist?list=PLQY2H8rRoyvzDbLUZkbudP-MFQZwNmU4S>\n",
    "* Explanation: <https://www.youtube.com/watch?v=GGLr-TtKguA&t=2275s>"
   ]
  },
  {
   "cell_type": "markdown",
   "id": "6e534149-9986-498b-a460-878274c5d097",
   "metadata": {},
   "source": [
    "## **Import packages**"
   ]
  },
  {
   "cell_type": "code",
   "execution_count": 1,
   "id": "871ebda8-592f-4f3c-9053-72b186befe68",
   "metadata": {
    "lines_to_end_of_cell_marker": 2
   },
   "outputs": [
    {
     "name": "stderr",
     "output_type": "stream",
     "text": [
      "C:\\Users\\shiha\\AppData\\Local\\Temp\\ipykernel_23172\\3018990471.py:1: DeprecationWarning: \n",
      "Pyarrow will become a required dependency of pandas in the next major release of pandas (pandas 3.0),\n",
      "(to allow more performant data types, such as the Arrow string type, and better interoperability with other libraries)\n",
      "but was not found to be installed on your system.\n",
      "If this would cause problems for you,\n",
      "please provide us feedback at https://github.com/pandas-dev/pandas/issues/54466\n",
      "        \n",
      "  import pandas as pd\n"
     ]
    }
   ],
   "source": [
    "import pandas as pd\n",
    "import numpy as np\n",
    "import json\n",
    "\n",
    "import matplotlib.pyplot as plt\n",
    "from nltk.probability import FreqDist\n",
    "# from tqdm import tqdm\n",
    "# import pickle, argparse, os\n",
    "# import data_analysis as da\n",
    "# import shutil, traceback\n",
    "\n",
    "# # data processing\n",
    "# from sklearn.model_selection import train_test_split\n",
    "# from sklearn.preprocessing import MultiLabelBinarizer\n",
    "# from sklearn.metrics import accuracy_score, classification_report\n",
    "\n",
    "# # Hugging Face\n",
    "# import torch\n",
    "# from transformers import Trainer, TrainingArguments\n",
    "# from transformers import BertTokenizer, BertForSequenceClassification, BertConfig, BertModel\n",
    "# from transformers import DistilBertTokenizer, DistilBertForSequenceClassification, DistilBertConfig\n",
    "\n",
    "# from torch.cuda.amp import autocast, GradScaler\n",
    "# from torch.nn.functional import softmax\n",
    "# from torch.utils.data import DataLoader, TensorDataset\n",
    "\n",
    "import seaborn as sns\n",
    "# import re\n",
    "# from pandasql import sqldf\n",
    "# import os\n",
    "# import textwrap\n",
    "# from matplotlib.backends.backend_pdf import PdfPages\n",
    "from matplotlib.colors import LinearSegmentedColormap\n",
    "\n"
   ]
  },
  {
   "cell_type": "code",
   "execution_count": 2,
   "id": "d8c896d8-2b42-4a1a-82a5-3378db8ca26e",
   "metadata": {},
   "outputs": [
    {
     "name": "stdout",
     "output_type": "stream",
     "text": [
      "['i', 'me', 'my', 'myself', 'we', 'our', 'ours', 'ourselves', 'you', \"you're\", \"you've\", \"you'll\", \"you'd\", 'your', 'yours', 'yourself', 'yourselves', 'he', 'him', 'his', 'himself', 'she', \"she's\", 'her', 'hers', 'herself', 'it', \"it's\", 'its', 'itself', 'they', 'them', 'their', 'theirs', 'themselves', 'what', 'which', 'who', 'whom', 'this', 'that', \"that'll\", 'these', 'those', 'am', 'is', 'are', 'was', 'were', 'be', 'been', 'being', 'have', 'has', 'had', 'having', 'do', 'does', 'did', 'doing', 'a', 'an', 'the', 'and', 'but', 'if', 'or', 'because', 'as', 'until', 'while', 'of', 'at', 'by', 'for', 'with', 'about', 'against', 'between', 'into', 'through', 'during', 'before', 'after', 'above', 'below', 'to', 'from', 'up', 'down', 'in', 'out', 'on', 'off', 'over', 'under', 'again', 'further', 'then', 'once', 'here', 'there', 'when', 'where', 'why', 'how', 'all', 'any', 'both', 'each', 'few', 'more', 'most', 'other', 'some', 'such', 'no', 'nor', 'not', 'only', 'own', 'same', 'so', 'than', 'too', 'very', 's', 't', 'can', 'will', 'just', 'don', \"don't\", 'should', \"should've\", 'now', 'd', 'll', 'm', 'o', 're', 've', 'y', 'ain', 'aren', \"aren't\", 'couldn', \"couldn't\", 'didn', \"didn't\", 'doesn', \"doesn't\", 'hadn', \"hadn't\", 'hasn', \"hasn't\", 'haven', \"haven't\", 'isn', \"isn't\", 'ma', 'mightn', \"mightn't\", 'mustn', \"mustn't\", 'needn', \"needn't\", 'shan', \"shan't\", 'shouldn', \"shouldn't\", 'wasn', \"wasn't\", 'weren', \"weren't\", 'won', \"won't\", 'wouldn', \"wouldn't\"]\n"
     ]
    },
    {
     "name": "stderr",
     "output_type": "stream",
     "text": [
      "[nltk_data] Downloading package stopwords to\n",
      "[nltk_data]     C:\\Users\\shiha\\AppData\\Roaming\\nltk_data...\n",
      "[nltk_data]   Package stopwords is already up-to-date!\n"
     ]
    }
   ],
   "source": [
    "import nltk\n",
    "from nltk.corpus import stopwords\n",
    " \n",
    "nltk.download('stopwords')\n",
    "common_stopwords = stopwords.words('english')\n",
    "print(common_stopwords)"
   ]
  },
  {
   "cell_type": "markdown",
   "id": "62f8e2f9-e37e-4a0d-9744-0b07dc432a5b",
   "metadata": {},
   "source": [
    "## **Datasets**"
   ]
  },
  {
   "cell_type": "code",
   "execution_count": 3,
   "id": "fe3dc4db-db26-4b8e-8e9f-4973b1b81bf2",
   "metadata": {
    "lines_to_next_cell": 2
   },
   "outputs": [],
   "source": [
    "datastore = []\n",
    "with open(\"./Sarcasm_Headlines_Dataset.json/Sarcasm_Headlines_Dataset.json\", \"r\") as f:\n",
    "    for line in f:\n",
    "        datastore.append(json.loads(line))"
   ]
  },
  {
   "cell_type": "code",
   "execution_count": 4,
   "id": "82914310-1c05-4fd9-a8b4-e1f249fb1ba8",
   "metadata": {},
   "outputs": [],
   "source": [
    "sentences = []\n",
    "labels = []\n",
    "\n",
    "for item in datastore:\n",
    "    sentences.append(item['headline'])\n",
    "    labels.append(item['is_sarcastic'])"
   ]
  },
  {
   "cell_type": "code",
   "execution_count": 5,
   "id": "fe7b2f5b-3f4b-49c7-a137-a11c7541dcdf",
   "metadata": {},
   "outputs": [
    {
     "name": "stdout",
     "output_type": "stream",
     "text": [
      "Number of sentences:  26709\n",
      "Number of labels:  26709\n"
     ]
    }
   ],
   "source": [
    "print(\"Number of sentences: \", str(len(sentences)))\n",
    "print(\"Number of labels: \", str(len(labels)))"
   ]
  },
  {
   "cell_type": "markdown",
   "id": "44e7f192-6e03-4b86-9706-52dfc7464577",
   "metadata": {},
   "source": [
    "# **Explorative Data Analysis**"
   ]
  },
  {
   "cell_type": "code",
   "execution_count": 6,
   "id": "6d7c0c43-5c2c-45ed-bf9c-f7724075dd9b",
   "metadata": {},
   "outputs": [
    {
     "data": {
      "text/html": [
       "<div>\n",
       "<style scoped>\n",
       "    .dataframe tbody tr th:only-of-type {\n",
       "        vertical-align: middle;\n",
       "    }\n",
       "\n",
       "    .dataframe tbody tr th {\n",
       "        vertical-align: top;\n",
       "    }\n",
       "\n",
       "    .dataframe thead th {\n",
       "        text-align: right;\n",
       "    }\n",
       "</style>\n",
       "<table border=\"1\" class=\"dataframe\">\n",
       "  <thead>\n",
       "    <tr style=\"text-align: right;\">\n",
       "      <th></th>\n",
       "      <th>headline</th>\n",
       "      <th>is_sarcastic</th>\n",
       "    </tr>\n",
       "  </thead>\n",
       "  <tbody>\n",
       "    <tr>\n",
       "      <th>0</th>\n",
       "      <td>former versace store clerk sues over secret 'b...</td>\n",
       "      <td>0</td>\n",
       "    </tr>\n",
       "    <tr>\n",
       "      <th>1</th>\n",
       "      <td>the 'roseanne' revival catches up to our thorn...</td>\n",
       "      <td>0</td>\n",
       "    </tr>\n",
       "    <tr>\n",
       "      <th>2</th>\n",
       "      <td>mom starting to fear son's web series closest ...</td>\n",
       "      <td>1</td>\n",
       "    </tr>\n",
       "    <tr>\n",
       "      <th>3</th>\n",
       "      <td>boehner just wants wife to listen, not come up...</td>\n",
       "      <td>1</td>\n",
       "    </tr>\n",
       "    <tr>\n",
       "      <th>4</th>\n",
       "      <td>j.k. rowling wishes snape happy birthday in th...</td>\n",
       "      <td>0</td>\n",
       "    </tr>\n",
       "  </tbody>\n",
       "</table>\n",
       "</div>"
      ],
      "text/plain": [
       "                                            headline  is_sarcastic\n",
       "0  former versace store clerk sues over secret 'b...             0\n",
       "1  the 'roseanne' revival catches up to our thorn...             0\n",
       "2  mom starting to fear son's web series closest ...             1\n",
       "3  boehner just wants wife to listen, not come up...             1\n",
       "4  j.k. rowling wishes snape happy birthday in th...             0"
      ]
     },
     "execution_count": 6,
     "metadata": {},
     "output_type": "execute_result"
    }
   ],
   "source": [
    "sentences_df = pd.DataFrame({\"headline\":sentences,\n",
    "                             \"is_sarcastic\":labels\n",
    "                            })\n",
    "sentences_df.head()"
   ]
  },
  {
   "cell_type": "markdown",
   "id": "55915f60-50b1-4065-b1be-6442f70c15a3",
   "metadata": {},
   "source": [
    "**Here we take a look at the overall percentage of sarcastic headlines. In this dataset, the distribution of 1 and 0 is relatively even. Here we do not have imbalanced dataset problem.**"
   ]
  },
  {
   "cell_type": "code",
   "execution_count": 7,
   "id": "50ebb805-3d57-4798-89b3-238b62808073",
   "metadata": {},
   "outputs": [
    {
     "data": {
      "text/html": [
       "<div>\n",
       "<style scoped>\n",
       "    .dataframe tbody tr th:only-of-type {\n",
       "        vertical-align: middle;\n",
       "    }\n",
       "\n",
       "    .dataframe tbody tr th {\n",
       "        vertical-align: top;\n",
       "    }\n",
       "\n",
       "    .dataframe thead th {\n",
       "        text-align: right;\n",
       "    }\n",
       "</style>\n",
       "<table border=\"1\" class=\"dataframe\">\n",
       "  <thead>\n",
       "    <tr style=\"text-align: right;\">\n",
       "      <th></th>\n",
       "      <th>is_sarcastic</th>\n",
       "      <th>headline</th>\n",
       "      <th>percentage</th>\n",
       "    </tr>\n",
       "  </thead>\n",
       "  <tbody>\n",
       "    <tr>\n",
       "      <th>0</th>\n",
       "      <td>0</td>\n",
       "      <td>14985</td>\n",
       "      <td>56.1</td>\n",
       "    </tr>\n",
       "    <tr>\n",
       "      <th>1</th>\n",
       "      <td>1</td>\n",
       "      <td>11724</td>\n",
       "      <td>43.9</td>\n",
       "    </tr>\n",
       "  </tbody>\n",
       "</table>\n",
       "</div>"
      ],
      "text/plain": [
       "   is_sarcastic  headline  percentage\n",
       "0             0     14985        56.1\n",
       "1             1     11724        43.9"
      ]
     },
     "execution_count": 7,
     "metadata": {},
     "output_type": "execute_result"
    }
   ],
   "source": [
    "overview_df = sentences_df.groupby(\"is_sarcastic\").agg({\"headline\":\"count\"}).reset_index(drop=False)\n",
    "overview_df['percentage'] = round(overview_df['headline']*100/overview_df['headline'].sum(),1)\n",
    "overview_df"
   ]
  },
  {
   "cell_type": "markdown",
   "id": "169fe5b0-f5c1-4359-873a-f835d2e0a77c",
   "metadata": {},
   "source": [
    "## **Number of words**"
   ]
  },
  {
   "cell_type": "markdown",
   "id": "88a4d108-6fce-49ff-b39a-12fc87741160",
   "metadata": {},
   "source": [
    "Here we take a look at the number of words in each sentence (can think of it as \"document\").\n",
    "\n",
    "We also explore if the number of words have different distributions between Sarcastic and Non Sarcastic headlines."
   ]
  },
  {
   "cell_type": "code",
   "execution_count": 8,
   "id": "a7126794-8e66-4762-a5bb-f0029c2a0d10",
   "metadata": {},
   "outputs": [],
   "source": [
    "sentences_df[\"number_of_words\"] = sentences_df['headline'].apply(lambda x: len(x.split()))"
   ]
  },
  {
   "cell_type": "code",
   "execution_count": 9,
   "id": "b7462791-7c3b-42b0-9419-758074491306",
   "metadata": {},
   "outputs": [
    {
     "data": {
      "text/plain": [
       "<Axes: >"
      ]
     },
     "execution_count": 9,
     "metadata": {},
     "output_type": "execute_result"
    },
    {
     "data": {
      "image/png": "[encoded data removed]",
      "text/plain": [
       "<Figure size 640x480 with 1 Axes>"
      ]
     },
     "metadata": {},
     "output_type": "display_data"
    }
   ],
   "source": [
    "sentences_df[\"number_of_words\"].hist()"
   ]
  },
  {
   "cell_type": "code",
   "execution_count": 10,
   "id": "f7d9530d-1492-40bf-8066-48bfdf47e9ae",
   "metadata": {},
   "outputs": [],
   "source": [
    "# sentences_df.hist(\"number_of_words\", by =\"is_sarcastic\" )"
   ]
  },
  {
   "cell_type": "code",
   "execution_count": 37,
   "id": "e64e340b-c442-4b22-a7d5-487def4b2b6f",
   "metadata": {},
   "outputs": [
    {
     "data": {
      "text/plain": [
       "count    26709.000000\n",
       "mean         9.845820\n",
       "std          3.168955\n",
       "min          2.000000\n",
       "25%          8.000000\n",
       "50%         10.000000\n",
       "75%         12.000000\n",
       "max         39.000000\n",
       "Name: number_of_words, dtype: float64"
      ]
     },
     "execution_count": 37,
     "metadata": {},
     "output_type": "execute_result"
    }
   ],
   "source": [
    "sentences_df[\"number_of_words\"].describe()"
   ]
  },
  {
   "cell_type": "code",
   "execution_count": 38,
   "id": "8e7a50a3-632e-48f4-ae15-5360d58e7625",
   "metadata": {},
   "outputs": [
    {
     "data": {
      "text/plain": [
       "39"
      ]
     },
     "execution_count": 38,
     "metadata": {},
     "output_type": "execute_result"
    }
   ],
   "source": [
    "sentences_df[\"number_of_words\"].max()"
   ]
  },
  {
   "cell_type": "code",
   "execution_count": 11,
   "id": "c4de283c-e6a0-4dad-af93-4a4159de175a",
   "metadata": {},
   "outputs": [
    {
     "data": {
      "image/png": "[encoded data removed]",
      "text/plain": [
       "<Figure size 640x480 with 1 Axes>"
      ]
     },
     "metadata": {},
     "output_type": "display_data"
    }
   ],
   "source": [
    "plt.hist(sentences_df[sentences_df[\"is_sarcastic\"]==0][\"number_of_words\"], alpha=0.5, label='Non Sarcastic')\n",
    "plt.hist(sentences_df[sentences_df[\"is_sarcastic\"]==1][\"number_of_words\"], alpha=0.5, label='Sarcastic')\n",
    "#add plot title and axis labels\n",
    "plt.title('Number of words by Sarcastic label')\n",
    "plt.xlabel('Number of words')\n",
    "plt.ylabel('Frequency')\n",
    "\n",
    "#add legend\n",
    "plt.legend(title='Label')\n",
    "\n",
    "#display plot\n",
    "plt.show()"
   ]
  },
  {
   "cell_type": "markdown",
   "id": "d08e4776-d087-4e7e-94d7-411d002aa6f2",
   "metadata": {},
   "source": [
    "## **Top appearing words**"
   ]
  },
  {
   "cell_type": "code",
   "execution_count": 12,
   "id": "83f8481c-1e6f-472a-bbc4-0005b2822bbe",
   "metadata": {},
   "outputs": [],
   "source": [
    "def extract_top_n_words(title_list, n=10):\n",
    "    fdist = FreqDist(title_list)\n",
    "    top_n = fdist.most_common(n)\n",
    "    return top_n"
   ]
  },
  {
   "cell_type": "code",
   "execution_count": 13,
   "id": "86712419-d182-41d5-8767-7b8869dd81af",
   "metadata": {},
   "outputs": [
    {
     "data": {
      "text/plain": [
       "[('new', 1485),\n",
       " ('man', 1229),\n",
       " ('trump', 1157),\n",
       " ('one', 487),\n",
       " ('area', 484),\n",
       " ('donald', 468),\n",
       " ('says', 450),\n",
       " ('woman', 420),\n",
       " ('u.s.', 410),\n",
       " ('day', 391)]"
      ]
     },
     "execution_count": 13,
     "metadata": {},
     "output_type": "execute_result"
    }
   ],
   "source": [
    "all_words_list = [xx for x in sentences for xx in x.split() if xx not in common_stopwords]\n",
    "all_top_n_words = extract_top_n_words(all_words_list)\n",
    "all_top_n_words"
   ]
  },
  {
   "cell_type": "markdown",
   "id": "2ade5d49-97be-4af3-918a-a832bbeeee1c",
   "metadata": {},
   "source": [
    "**We check if the top appearing words could be different for different labels**"
   ]
  },
  {
   "cell_type": "code",
   "execution_count": 14,
   "id": "2629f9b7-6612-40d1-8d28-c0c801793af3",
   "metadata": {},
   "outputs": [],
   "source": [
    "sarcastic_headlines = list(sentences_df[sentences_df['is_sarcastic']==1]['headline'])\n",
    "non_sarcastic_headlines = list(sentences_df[sentences_df['is_sarcastic']==0]['headline'])"
   ]
  },
  {
   "cell_type": "code",
   "execution_count": 15,
   "id": "e3d42bcc-e807-480d-8533-ca8b1a33cd9d",
   "metadata": {},
   "outputs": [
    {
     "data": {
      "text/plain": [
       "[('man', 1021),\n",
       " ('new', 821),\n",
       " ('area', 477),\n",
       " ('report:', 360),\n",
       " ('woman', 290),\n",
       " ('one', 253),\n",
       " ('time', 213),\n",
       " ('still', 208),\n",
       " ('day', 207),\n",
       " ('trump', 200)]"
      ]
     },
     "execution_count": 15,
     "metadata": {},
     "output_type": "execute_result"
    }
   ],
   "source": [
    "sarcastic_words_list = [xx for x in sarcastic_headlines for xx in x.split() if xx not in common_stopwords]\n",
    "sarcastic_top_n_words = extract_top_n_words(sarcastic_words_list)\n",
    "sarcastic_top_n_words"
   ]
  },
  {
   "cell_type": "code",
   "execution_count": 16,
   "id": "f499d955-74ce-4d46-a1f6-efc613c0ce7e",
   "metadata": {},
   "outputs": [
    {
     "data": {
      "text/plain": [
       "[('trump', 957),\n",
       " ('new', 664),\n",
       " ('donald', 453),\n",
       " (\"trump's\", 364),\n",
       " ('says', 346),\n",
       " ('women', 240),\n",
       " ('one', 234),\n",
       " ('u.s.', 223),\n",
       " ('first', 220),\n",
       " ('make', 209)]"
      ]
     },
     "execution_count": 16,
     "metadata": {},
     "output_type": "execute_result"
    }
   ],
   "source": [
    "non_sarcastic_words_list = [xx for x in non_sarcastic_headlines for xx in x.split() if xx not in common_stopwords]\n",
    "non_sarcastic_top_n_words = extract_top_n_words(non_sarcastic_words_list)\n",
    "non_sarcastic_top_n_words"
   ]
  },
  {
   "cell_type": "code",
   "execution_count": 17,
   "id": "8d52978a-b942-42eb-a563-ecf2bda82e9d",
   "metadata": {},
   "outputs": [],
   "source": [
    "group_by = 'is_sarcastic'\n",
    "summary_key_words_by_label = pd.DataFrame()\n",
    "labels = list(sentences_df[group_by].unique())\n",
    "for label in labels:\n",
    "    headline_label_list = list(sentences_df[sentences_df[group_by] == label]['headline'])\n",
    "    headline_label_list_words = [xx for x in headline_label_list for xx in x.split() if xx not in common_stopwords]\n",
    "    top_n_words = extract_top_n_words(headline_label_list_words)\n",
    "    for i in range(len(top_n_words)):\n",
    "        new_row = pd.DataFrame({group_by: [label],\n",
    "                                \"word\": [top_n_words[i][0]],\n",
    "                                \"count\": [top_n_words[i][1]]})\n",
    "        summary_key_words_by_label = pd.concat([summary_key_words_by_label, new_row])"
   ]
  },
  {
   "cell_type": "code",
   "execution_count": 18,
   "id": "44bf0391-513c-4f31-982c-05a47c0b4dfb",
   "metadata": {},
   "outputs": [
    {
     "data": {
      "text/plain": [
       "Text(0.5, 1.0, 'Word Count by is_sarcastic')"
      ]
     },
     "execution_count": 18,
     "metadata": {},
     "output_type": "execute_result"
    },
    {
     "data": {
      "image/png": "[encoded data removed]",
      "text/plain": [
       "<Figure size 640x480 with 2 Axes>"
      ]
     },
     "metadata": {},
     "output_type": "display_data"
    }
   ],
   "source": [
    "pivot_df = summary_key_words_by_label.pivot(index=\"word\", columns=group_by, values=\"count\")\n",
    "# Create a custom colormap\n",
    "colors = [\"#00b0cc\", \"grey\", \"#FF5800\"]  # Define the colors\n",
    "n_bins = 100  # Increase this number for a smoother transition\n",
    "cmap = LinearSegmentedColormap.from_list(\"custom_cmap\", colors, N=n_bins)\n",
    "sns.heatmap(pivot_df, annot=True, fmt='.0f', cmap=cmap)\n",
    "plt.title(\"Word Count by \" + group_by)"
   ]
  },
  {
   "cell_type": "markdown",
   "id": "2b02660e-464f-4add-a83d-f98d6464491a",
   "metadata": {},
   "source": [
    "From the plot above we can see for example for headlines being Sarcastic, the distinct words include \"area\", \"day\", \"man\", \"report:\", \"still\", \"time\", \"woman\". However do note that words \"woman\" and \"women\" share the same context. There's another observation that \"trump\" appears often in the headlines. This triggers the question about whether or not we should remove these top appearing words in general as they could appear in headlines quite often, they could be ineffective in determining whether or not the headline is sarcastic. "
   ]
  },
  {
   "cell_type": "markdown",
   "id": "a73dd7d3-a8fc-49b9-a57d-30400c32af11",
   "metadata": {},
   "source": [
    "# Data Processing"
   ]
  },
  {
   "cell_type": "markdown",
   "id": "3aca47f7-cd34-4b3e-8cf8-3053bc2ffed6",
   "metadata": {},
   "source": [
    "## Descriptions\n",
    "\n",
    "**In general, we need to clean the text before we make it into tokens. Common steps include:**\n",
    "- Lower case\n",
    "- Remove trailing or leading spaces\n",
    "- Remove hyper links\n",
    "- Remove punctuations (?)\n",
    "\n",
    "**Further, the words are tokenized into numbers. Basically this step is to convert the data into a format that the model understand - i.e. numerical format**"
   ]
  },
  {
   "cell_type": "code",
   "execution_count": 20,
   "id": "e842ebcf-e7c7-4aa5-a008-7b3405fadcee",
   "metadata": {},
   "outputs": [],
   "source": [
    "from tensorflow.keras.preprocessing.text import Tokenizer\n",
    "from tensorflow.keras.preprocessing.sequence import pad_sequences"
   ]
  },
  {
   "cell_type": "markdown",
   "id": "1e58e58d-3025-4eef-8b9a-173dcb662d53",
   "metadata": {},
   "source": [
    "## Train and test split"
   ]
  },
  {
   "cell_type": "code",
   "execution_count": 45,
   "id": "2c277cc7-63e6-47b1-bd0b-1017a5f4420d",
   "metadata": {},
   "outputs": [
    {
     "name": "stdout",
     "output_type": "stream",
     "text": [
      "21367\n"
     ]
    }
   ],
   "source": [
    "train_ratio = 0.8\n",
    "training_size = int(round(len(sentences)*train_ratio,0))\n",
    "print(training_size)"
   ]
  },
  {
   "cell_type": "code",
   "execution_count": 42,
   "id": "910448af-ed91-495a-9005-2c02e55dd9aa",
   "metadata": {},
   "outputs": [],
   "source": [
    "training_sentences = sentences[0:training_size]\n",
    "testing_sentences = sentences[training_size:]\n",
    "\n",
    "training_labels = labels[0:training_size]\n",
    "testing_labels = labels[training_size:]"
   ]
  },
  {
   "cell_type": "code",
   "execution_count": 44,
   "id": "cd1595e2-6487-4b32-bcba-72b50e9a00cf",
   "metadata": {},
   "outputs": [
    {
     "name": "stdout",
     "output_type": "stream",
     "text": [
      "Training obs: 21367\n",
      "Testing obs: 5342\n",
      "Total obs: 26709\n",
      "Total obs from original: 26709\n"
     ]
    }
   ],
   "source": [
    "print(\"Training obs:\", len(training_sentences))\n",
    "print(\"Testing obs:\", len(testing_sentences))\n",
    "print(\"Total obs:\", len(training_sentences)+len(testing_sentences))\n",
    "print(\"Total obs from original:\", len(sentences))"
   ]
  },
  {
   "cell_type": "code",
   "execution_count": 22,
   "id": "05f23b5a-c4bb-45fd-b53c-72fd6da3e8c0",
   "metadata": {},
   "outputs": [],
   "source": [
    "tokenizer = Tokenizer(oov_token=\"<OOV>\")"
   ]
  },
  {
   "cell_type": "code",
   "execution_count": 23,
   "id": "240ef24c-b03f-4416-a011-e76d09d55cc1",
   "metadata": {},
   "outputs": [],
   "source": [
    "tokenizer.fit_on_texts(sentences)\n",
    "word_index = tokenizer.word_index"
   ]
  },
  {
   "cell_type": "code",
   "execution_count": 26,
   "id": "40a4f51a-b4f9-403c-8345-911659205342",
   "metadata": {},
   "outputs": [],
   "source": [
    "sequences = tokenizer.texts_to_sequences(sentences)\n",
    "padded = pad_sequences(sequences, padding='post')"
   ]
  },
  {
   "cell_type": "markdown",
   "id": "ef397e9a-3f9a-4bb5-8788-76c165e30361",
   "metadata": {},
   "source": [
    "**Note that we have chosen \"post\" padding, meaning adding 0's to the end of the sentence if it is less than 40 characters. As shown above, the maximum number of words in the headlines is 40 and therefore headlines less than 40 words will be padded. QUESTION: is it because we have added OOV and so the length increased from 39 to 40?**\n",
    "\n",
    "See documentation here: <https://www.tensorflow.org/api_docs/python/tf/keras/utils/pad_sequences>"
   ]
  },
  {
   "cell_type": "code",
   "execution_count": 34,
   "id": "e39e1f9d-df9e-44db-9b84-5b46cf1215dc",
   "metadata": {},
   "outputs": [
    {
     "data": {
      "text/plain": [
       "array([  308, 15115,   679,  3337,  2298,    48,   382,  2576, 15116,\n",
       "           6,  2577,  8434,     0,     0,     0,     0,     0,     0,\n",
       "           0,     0,     0,     0,     0,     0,     0,     0,     0,\n",
       "           0,     0,     0,     0,     0,     0,     0,     0,     0,\n",
       "           0,     0,     0,     0])"
      ]
     },
     "execution_count": 34,
     "metadata": {},
     "output_type": "execute_result"
    }
   ],
   "source": [
    "padded[0]"
   ]
  },
  {
   "cell_type": "code",
   "execution_count": 32,
   "id": "290d4f6d-8135-4146-a9c3-7133e7770181",
   "metadata": {},
   "outputs": [
    {
     "name": "stdout",
     "output_type": "stream",
     "text": [
      "Number of unique words including <OOV>: 29657\n",
      "Number of observations with the number of 'features' after padding: (26709, 40)\n"
     ]
    }
   ],
   "source": [
    "print(\"Number of unique words including <OOV>:\", str(len(word_index)))\n",
    "print(\"Number of observations with the number of 'features' after padding:\", padded.shape)"
   ]
  }
 ],
 "metadata": {
  "jupytext": {
   "formats": "ipynb,py:light"
  },
  "kernelspec": {
   "display_name": "NLP Learning",
   "language": "python",
   "name": "nlp_learning"
  },
  "language_info": {
   "codemirror_mode": {
    "name": "ipython",
    "version": 3
   },
   "file_extension": ".py",
   "mimetype": "text/x-python",
   "name": "python",
   "nbconvert_exporter": "python",
   "pygments_lexer": "ipython3",
   "version": "3.11.1"
  }
 },
 "nbformat": 4,
 "nbformat_minor": 5
}
