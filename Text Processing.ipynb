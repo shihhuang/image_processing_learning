{
 "cells": [
  {
   "cell_type": "markdown",
   "id": "77647b57-40d0-4198-96bb-b43dc2b639d5",
   "metadata": {},
   "source": [
    "# Description\n",
    "This notebook is focusing on different ways of text processing.\n",
    "\n",
    "We use the headline sentences as illustration."
   ]
  },
  {
   "cell_type": "code",
   "execution_count": 84,
   "id": "c0c7b1e2-1abd-4df2-81b5-b07965680fa5",
   "metadata": {},
   "outputs": [
    {
     "data": {
      "text/plain": [
       "[\"former versace store clerk sues over secret 'black code' for minority shoppers\",\n",
       " \"the 'roseanne' revival catches up to our thorny political mood, for better and worse\",\n",
       " \"mom starting to fear son's web series closest thing she will have to grandchild\",\n",
       " 'boehner just wants wife to listen, not come up with alternative debt-reduction ideas',\n",
       " 'j.k. rowling wishes snape happy birthday in the most magical way',\n",
       " 'the wife wants the son to listen']"
      ]
     },
     "execution_count": 84,
     "metadata": {},
     "output_type": "execute_result"
    }
   ],
   "source": [
    "import json\n",
    "datastore = []\n",
    "with open(\"./Sarcasm_Headlines_Dataset.json/Sarcasm_Headlines_Dataset.json\", \"r\") as f:\n",
    "    for line in f:\n",
    "        datastore.append(json.loads(line))\n",
    "sentences = []\n",
    "labels = []\n",
    "\n",
    "for item in datastore:\n",
    "    sentences.append(item['headline'])\n",
    "    labels.append(item['is_sarcastic'])\n",
    "demo_examples = sentences[:5]\n",
    "# Adding some repeating words \n",
    "demo_examples.append(\"the wife wants the son to listen\")\n",
    "demo_examples"
   ]
  },
  {
   "cell_type": "markdown",
   "id": "d6d8dac4-8ebb-4acc-976f-65bd826d7bb0",
   "metadata": {},
   "source": [
    "## Text Pre-cleaning\n",
    "Normally we will need to clean the text with the following steps:\n",
    "1. Remove punctuations and replace it with space \" \"\n",
    "2. Remove html formatting\n",
    "3. Remove leading and trailing spaces\n",
    "4. Convert to lower case\n",
    "5. Remove stopwords"
   ]
  },
  {
   "cell_type": "code",
   "execution_count": 23,
   "id": "f1fa3578-c4f1-4a6c-82fd-f2fb98349b6a",
   "metadata": {},
   "outputs": [],
   "source": [
    "import re\n",
    "import bs4\n",
    "from nltk.corpus import stopwords\n",
    "from bs4 import BeautifulSoup"
   ]
  },
  {
   "cell_type": "markdown",
   "id": "56f2df3e-089d-4aa0-b600-e5da4a0916d0",
   "metadata": {},
   "source": [
    "### Customized functions"
   ]
  },
  {
   "cell_type": "code",
   "execution_count": 59,
   "id": "aff8fc6b-baf1-4206-a6c5-3db0c83de612",
   "metadata": {},
   "outputs": [],
   "source": [
    "eng_stopwords = stopwords.words('english')"
   ]
  },
  {
   "cell_type": "code",
   "execution_count": 65,
   "id": "ad7fb885-5cff-4ca8-958d-4668b8c85186",
   "metadata": {},
   "outputs": [],
   "source": [
    "def remove_duplicate_space(text):\n",
    "    # Remove extra spaces - cleaning\n",
    "    return \" \".join(text.split())\n",
    "\n",
    "def remove_numbers(text):\n",
    "    pattern = r'[0-9]'\n",
    "    return re.sub(pattern, '', text)\n",
    "\n",
    "def remove_punctuation(text):\n",
    "    #pattern = r'[^\\w\\s]+'\n",
    "    pattern = '^\\s+|\\W+|[0-9]|\\s+$'\n",
    "    out = re.sub(pattern, ' ', text)\n",
    "    return out \n",
    "\n",
    "def remove_underscore(text):\n",
    "    return text.replace(\"_\", \" \")\n",
    "\n",
    "def lower_case(text):\n",
    "    return text.lower()\n",
    "\n",
    "# Step 1 - Remove HTML formatting\n",
    "def remove_html(text):\n",
    "    soup = BeautifulSoup(text, features=\"html.parser\")\n",
    "    cleaned_text = soup.get_text()\n",
    "    return cleaned_text\n",
    "\n",
    "def text_preprocessing(text):\n",
    "    text = remove_html(text)\n",
    "    text = remove_numbers(text)\n",
    "    text = remove_punctuation(text)\n",
    "    text = remove_underscore(text)\n",
    "    text = remove_duplicate_space(text)\n",
    "    text = lower_case(text)\n",
    "    cleaned_text = ' '.join([i for i in text.split() if i not in eng_stopwords])\n",
    "    \n",
    "    return cleaned_text"
   ]
  },
  {
   "cell_type": "code",
   "execution_count": 66,
   "id": "b18d5a2f-0d9f-4191-8c1e-5c514cd5a1b8",
   "metadata": {},
   "outputs": [
    {
     "data": {
      "text/plain": [
       "'looking job markets past months nothing happened'"
      ]
     },
     "execution_count": 66,
     "metadata": {},
     "output_type": "execute_result"
    }
   ],
   "source": [
    "test1 = \"<p>I've been looking into job markets in the past 3 months, but nothing happened</p>\"\n",
    "text_preprocessing(test1)"
   ]
  },
  {
   "cell_type": "code",
   "execution_count": 85,
   "id": "d68eb38d-d13a-4c33-b1d2-8ee176b824bc",
   "metadata": {},
   "outputs": [
    {
     "data": {
      "text/plain": [
       "['former versace store clerk sues secret black code minority shoppers',\n",
       " 'roseanne revival catches thorny political mood better worse',\n",
       " 'mom starting fear son web series closest thing grandchild',\n",
       " 'boehner wants wife listen come alternative debt reduction ideas',\n",
       " 'j k rowling wishes snape happy birthday magical way',\n",
       " 'wife wants son listen']"
      ]
     },
     "execution_count": 85,
     "metadata": {},
     "output_type": "execute_result"
    }
   ],
   "source": [
    "demo_examples_cleaned = [text_preprocessing(i) for i in demo_examples]\n",
    "demo_examples_cleaned"
   ]
  },
  {
   "cell_type": "markdown",
   "id": "81fa6b12-ea20-4bdb-8ce9-f51f730d6dfc",
   "metadata": {},
   "source": [
    "## One hot encoding and bag of words"
   ]
  },
  {
   "cell_type": "markdown",
   "id": "964b8f83-1dca-409c-ada4-06384a827df1",
   "metadata": {},
   "source": [
    "For example, given the following cleaned texts:  \n",
    "\n",
    "`[\"dog jump fence\", \"dog break fence\"]`\n",
    "\n",
    "\n",
    "To create a one hot representation the strings must be broken down into a list of words:  \n",
    "\n",
    "`[['dog', 'jump', 'fence'], ['dog', 'break', 'fence']]`  \n",
    "\n",
    "Once the string has been broken down into a list words, the list will need to be flattened to create a mapping between a unique word and a unique one hot representation:  \n",
    "\n",
    "`['dog', 'jump', 'fence', 'dog', 'break', 'fence']`\n",
    "\n",
    "Feeding the flattened list to fit the One Hot Encoder will create the following mapping:  \n",
    "\n",
    " `[1., 0., 0., 0.]` $\\rightarrow$ break  \n",
    " `[0., 1., 0., 0.]` $\\rightarrow$ dog    \n",
    " `[0., 0., 1., 0.]` $\\rightarrow$ fence  \n",
    " `[0., 0., 0., 1.]` $\\rightarrow$ jump   \n",
    "\n",
    "Now that we have the mapping, we can get the one hot representation of `\"dog jump fence\"`:\n",
    "\n",
    "`[[0., 1., 0., 0.],\n",
    "  [0., 0., 0., 1.], \n",
    "  [0., 0., 1., 0.]]`  \n",
    "\n",
    "The one hot representation can be summed along the rows to create the bag of words representation for `\"dog jump fence\"`:\n",
    "\n",
    "`[0., 1., 1., 1.]`"
   ]
  },
  {
   "cell_type": "code",
   "execution_count": 45,
   "id": "5f35db58-0163-45a2-aa68-9a757aac4103",
   "metadata": {},
   "outputs": [],
   "source": [
    "from sklearn.preprocessing import OneHotEncoder\n",
    "import numpy as np\n",
    "from sklearn.feature_extraction.text import CountVectorizer, TfidfVectorizer"
   ]
  },
  {
   "cell_type": "code",
   "execution_count": 86,
   "id": "b54fa178-059f-412f-9cb6-46a39a894cbb",
   "metadata": {},
   "outputs": [
    {
     "data": {
      "text/plain": [
       "['former versace store clerk sues secret black code minority shoppers',\n",
       " 'roseanne revival catches thorny political mood better worse',\n",
       " 'mom starting fear son web series closest thing grandchild',\n",
       " 'boehner wants wife listen come alternative debt reduction ideas',\n",
       " 'j k rowling wishes snape happy birthday magical way',\n",
       " 'wife wants son listen']"
      ]
     },
     "execution_count": 86,
     "metadata": {},
     "output_type": "execute_result"
    }
   ],
   "source": [
    "demo_examples_cleaned "
   ]
  },
  {
   "cell_type": "markdown",
   "id": "925d2e0a-30b5-45d0-b802-626caa7dd806",
   "metadata": {},
   "source": [
    "One-hot-encoding is to convert each \"category\" in the feature to be a binary feature with 1 indicating belonging to the category and 0 indicating not belonging. In the context of NLP, we need to have the full vocab first. "
   ]
  },
  {
   "cell_type": "code",
   "execution_count": 87,
   "id": "09491b55-22f3-40f6-9035-ef5269f749e3",
   "metadata": {},
   "outputs": [
    {
     "data": {
      "text/plain": [
       "[['former',\n",
       "  'versace',\n",
       "  'store',\n",
       "  'clerk',\n",
       "  'sues',\n",
       "  'secret',\n",
       "  'black',\n",
       "  'code',\n",
       "  'minority',\n",
       "  'shoppers'],\n",
       " ['roseanne',\n",
       "  'revival',\n",
       "  'catches',\n",
       "  'thorny',\n",
       "  'political',\n",
       "  'mood',\n",
       "  'better',\n",
       "  'worse'],\n",
       " ['mom',\n",
       "  'starting',\n",
       "  'fear',\n",
       "  'son',\n",
       "  'web',\n",
       "  'series',\n",
       "  'closest',\n",
       "  'thing',\n",
       "  'grandchild'],\n",
       " ['boehner',\n",
       "  'wants',\n",
       "  'wife',\n",
       "  'listen',\n",
       "  'come',\n",
       "  'alternative',\n",
       "  'debt',\n",
       "  'reduction',\n",
       "  'ideas'],\n",
       " ['j',\n",
       "  'k',\n",
       "  'rowling',\n",
       "  'wishes',\n",
       "  'snape',\n",
       "  'happy',\n",
       "  'birthday',\n",
       "  'magical',\n",
       "  'way'],\n",
       " ['wife', 'wants', 'son', 'listen']]"
      ]
     },
     "execution_count": 87,
     "metadata": {},
     "output_type": "execute_result"
    }
   ],
   "source": [
    "# Split each sentence into words first\n",
    "data_split = [i.split() for i in demo_examples_cleaned]\n",
    "data_split"
   ]
  },
  {
   "cell_type": "code",
   "execution_count": 88,
   "id": "847414ae-d725-4986-8b34-4cb61a815f94",
   "metadata": {},
   "outputs": [
    {
     "data": {
      "text/plain": [
       "array(['former', 'versace', 'store', 'clerk', 'sues', 'secret', 'black',\n",
       "       'code', 'minority', 'shoppers', 'roseanne', 'revival', 'catches',\n",
       "       'thorny', 'political', 'mood', 'better', 'worse', 'mom',\n",
       "       'starting', 'fear', 'son', 'web', 'series', 'closest', 'thing',\n",
       "       'grandchild', 'boehner', 'wants', 'wife', 'listen', 'come',\n",
       "       'alternative', 'debt', 'reduction', 'ideas', 'j', 'k', 'rowling',\n",
       "       'wishes', 'snape', 'happy', 'birthday', 'magical', 'way', 'wife',\n",
       "       'wants', 'son', 'listen'], dtype='<U11')"
      ]
     },
     "execution_count": 88,
     "metadata": {},
     "output_type": "execute_result"
    }
   ],
   "source": [
    "data_flattern = [i for sublist in data_split for i in sublist]\n",
    "data_flattern_array = np.array(data_flattern)\n",
    "data_flattern_array"
   ]
  },
  {
   "cell_type": "code",
   "execution_count": 92,
   "id": "8ee07628-cf25-4786-aa2d-259fea9ba159",
   "metadata": {},
   "outputs": [
    {
     "name": "stdout",
     "output_type": "stream",
     "text": [
      "Total number of words: 49\n",
      "Total number of unique words: 45\n"
     ]
    }
   ],
   "source": [
    "print(\"Total number of words:\", len(data_flattern_array))\n",
    "print(\"Total number of unique words:\", len(set(data_flattern_array)))"
   ]
  },
  {
   "cell_type": "code",
   "execution_count": 97,
   "id": "750dfd47-9515-46fd-8218-b36a1ef97e60",
   "metadata": {},
   "outputs": [
    {
     "data": {
      "text/plain": [
       "array([['listen'],\n",
       "       ['mood'],\n",
       "       ['rowling'],\n",
       "       ['closest'],\n",
       "       ['better'],\n",
       "       ['boehner'],\n",
       "       ['debt'],\n",
       "       ['come'],\n",
       "       ['minority'],\n",
       "       ['code'],\n",
       "       ['son'],\n",
       "       ['reduction'],\n",
       "       ['happy'],\n",
       "       ['wife'],\n",
       "       ['grandchild'],\n",
       "       ['mom'],\n",
       "       ['birthday'],\n",
       "       ['versace'],\n",
       "       ['store'],\n",
       "       ['revival'],\n",
       "       ['thorny'],\n",
       "       ['shoppers'],\n",
       "       ['former'],\n",
       "       ['ideas'],\n",
       "       ['j'],\n",
       "       ['snape'],\n",
       "       ['magical'],\n",
       "       ['worse'],\n",
       "       ['catches'],\n",
       "       ['secret'],\n",
       "       ['thing'],\n",
       "       ['fear'],\n",
       "       ['political'],\n",
       "       ['series'],\n",
       "       ['way'],\n",
       "       ['k'],\n",
       "       ['clerk'],\n",
       "       ['roseanne'],\n",
       "       ['alternative'],\n",
       "       ['sues'],\n",
       "       ['wants'],\n",
       "       ['wishes'],\n",
       "       ['starting'],\n",
       "       ['web'],\n",
       "       ['black']], dtype='<U11')"
      ]
     },
     "execution_count": 97,
     "metadata": {},
     "output_type": "execute_result"
    }
   ],
   "source": [
    "unique_array = np.array(list(set(data_flattern_array)))\n",
    "unique_array.reshape(-1,1)"
   ]
  },
  {
   "cell_type": "code",
   "execution_count": 99,
   "id": "6f0511d1-0beb-4e9f-a360-c9a0a5e0b6aa",
   "metadata": {},
   "outputs": [
    {
     "data": {
      "text/html": [
       "<style>#sk-container-id-2 {\n",
       "  /* Definition of color scheme common for light and dark mode */\n",
       "  --sklearn-color-text: black;\n",
       "  --sklearn-color-line: gray;\n",
       "  /* Definition of color scheme for unfitted estimators */\n",
       "  --sklearn-color-unfitted-level-0: #fff5e6;\n",
       "  --sklearn-color-unfitted-level-1: #f6e4d2;\n",
       "  --sklearn-color-unfitted-level-2: #ffe0b3;\n",
       "  --sklearn-color-unfitted-level-3: chocolate;\n",
       "  /* Definition of color scheme for fitted estimators */\n",
       "  --sklearn-color-fitted-level-0: #f0f8ff;\n",
       "  --sklearn-color-fitted-level-1: #d4ebff;\n",
       "  --sklearn-color-fitted-level-2: #b3dbfd;\n",
       "  --sklearn-color-fitted-level-3: cornflowerblue;\n",
       "\n",
       "  /* Specific color for light theme */\n",
       "  --sklearn-color-text-on-default-background: var(--sg-text-color, var(--theme-code-foreground, var(--jp-content-font-color1, black)));\n",
       "  --sklearn-color-background: var(--sg-background-color, var(--theme-background, var(--jp-layout-color0, white)));\n",
       "  --sklearn-color-border-box: var(--sg-text-color, var(--theme-code-foreground, var(--jp-content-font-color1, black)));\n",
       "  --sklearn-color-icon: #696969;\n",
       "\n",
       "  @media (prefers-color-scheme: dark) {\n",
       "    /* Redefinition of color scheme for dark theme */\n",
       "    --sklearn-color-text-on-default-background: var(--sg-text-color, var(--theme-code-foreground, var(--jp-content-font-color1, white)));\n",
       "    --sklearn-color-background: var(--sg-background-color, var(--theme-background, var(--jp-layout-color0, #111)));\n",
       "    --sklearn-color-border-box: var(--sg-text-color, var(--theme-code-foreground, var(--jp-content-font-color1, white)));\n",
       "    --sklearn-color-icon: #878787;\n",
       "  }\n",
       "}\n",
       "\n",
       "#sk-container-id-2 {\n",
       "  color: var(--sklearn-color-text);\n",
       "}\n",
       "\n",
       "#sk-container-id-2 pre {\n",
       "  padding: 0;\n",
       "}\n",
       "\n",
       "#sk-container-id-2 input.sk-hidden--visually {\n",
       "  border: 0;\n",
       "  clip: rect(1px 1px 1px 1px);\n",
       "  clip: rect(1px, 1px, 1px, 1px);\n",
       "  height: 1px;\n",
       "  margin: -1px;\n",
       "  overflow: hidden;\n",
       "  padding: 0;\n",
       "  position: absolute;\n",
       "  width: 1px;\n",
       "}\n",
       "\n",
       "#sk-container-id-2 div.sk-dashed-wrapped {\n",
       "  border: 1px dashed var(--sklearn-color-line);\n",
       "  margin: 0 0.4em 0.5em 0.4em;\n",
       "  box-sizing: border-box;\n",
       "  padding-bottom: 0.4em;\n",
       "  background-color: var(--sklearn-color-background);\n",
       "}\n",
       "\n",
       "#sk-container-id-2 div.sk-container {\n",
       "  /* jupyter's `normalize.less` sets `[hidden] { display: none; }`\n",
       "     but bootstrap.min.css set `[hidden] { display: none !important; }`\n",
       "     so we also need the `!important` here to be able to override the\n",
       "     default hidden behavior on the sphinx rendered scikit-learn.org.\n",
       "     See: https://github.com/scikit-learn/scikit-learn/issues/21755 */\n",
       "  display: inline-block !important;\n",
       "  position: relative;\n",
       "}\n",
       "\n",
       "#sk-container-id-2 div.sk-text-repr-fallback {\n",
       "  display: none;\n",
       "}\n",
       "\n",
       "div.sk-parallel-item,\n",
       "div.sk-serial,\n",
       "div.sk-item {\n",
       "  /* draw centered vertical line to link estimators */\n",
       "  background-image: linear-gradient(var(--sklearn-color-text-on-default-background), var(--sklearn-color-text-on-default-background));\n",
       "  background-size: 2px 100%;\n",
       "  background-repeat: no-repeat;\n",
       "  background-position: center center;\n",
       "}\n",
       "\n",
       "/* Parallel-specific style estimator block */\n",
       "\n",
       "#sk-container-id-2 div.sk-parallel-item::after {\n",
       "  content: \"\";\n",
       "  width: 100%;\n",
       "  border-bottom: 2px solid var(--sklearn-color-text-on-default-background);\n",
       "  flex-grow: 1;\n",
       "}\n",
       "\n",
       "#sk-container-id-2 div.sk-parallel {\n",
       "  display: flex;\n",
       "  align-items: stretch;\n",
       "  justify-content: center;\n",
       "  background-color: var(--sklearn-color-background);\n",
       "  position: relative;\n",
       "}\n",
       "\n",
       "#sk-container-id-2 div.sk-parallel-item {\n",
       "  display: flex;\n",
       "  flex-direction: column;\n",
       "}\n",
       "\n",
       "#sk-container-id-2 div.sk-parallel-item:first-child::after {\n",
       "  align-self: flex-end;\n",
       "  width: 50%;\n",
       "}\n",
       "\n",
       "#sk-container-id-2 div.sk-parallel-item:last-child::after {\n",
       "  align-self: flex-start;\n",
       "  width: 50%;\n",
       "}\n",
       "\n",
       "#sk-container-id-2 div.sk-parallel-item:only-child::after {\n",
       "  width: 0;\n",
       "}\n",
       "\n",
       "/* Serial-specific style estimator block */\n",
       "\n",
       "#sk-container-id-2 div.sk-serial {\n",
       "  display: flex;\n",
       "  flex-direction: column;\n",
       "  align-items: center;\n",
       "  background-color: var(--sklearn-color-background);\n",
       "  padding-right: 1em;\n",
       "  padding-left: 1em;\n",
       "}\n",
       "\n",
       "\n",
       "/* Toggleable style: style used for estimator/Pipeline/ColumnTransformer box that is\n",
       "clickable and can be expanded/collapsed.\n",
       "- Pipeline and ColumnTransformer use this feature and define the default style\n",
       "- Estimators will overwrite some part of the style using the `sk-estimator` class\n",
       "*/\n",
       "\n",
       "/* Pipeline and ColumnTransformer style (default) */\n",
       "\n",
       "#sk-container-id-2 div.sk-toggleable {\n",
       "  /* Default theme specific background. It is overwritten whether we have a\n",
       "  specific estimator or a Pipeline/ColumnTransformer */\n",
       "  background-color: var(--sklearn-color-background);\n",
       "}\n",
       "\n",
       "/* Toggleable label */\n",
       "#sk-container-id-2 label.sk-toggleable__label {\n",
       "  cursor: pointer;\n",
       "  display: block;\n",
       "  width: 100%;\n",
       "  margin-bottom: 0;\n",
       "  padding: 0.5em;\n",
       "  box-sizing: border-box;\n",
       "  text-align: center;\n",
       "}\n",
       "\n",
       "#sk-container-id-2 label.sk-toggleable__label-arrow:before {\n",
       "  /* Arrow on the left of the label */\n",
       "  content: \"▸\";\n",
       "  float: left;\n",
       "  margin-right: 0.25em;\n",
       "  color: var(--sklearn-color-icon);\n",
       "}\n",
       "\n",
       "#sk-container-id-2 label.sk-toggleable__label-arrow:hover:before {\n",
       "  color: var(--sklearn-color-text);\n",
       "}\n",
       "\n",
       "/* Toggleable content - dropdown */\n",
       "\n",
       "#sk-container-id-2 div.sk-toggleable__content {\n",
       "  max-height: 0;\n",
       "  max-width: 0;\n",
       "  overflow: hidden;\n",
       "  text-align: left;\n",
       "  /* unfitted */\n",
       "  background-color: var(--sklearn-color-unfitted-level-0);\n",
       "}\n",
       "\n",
       "#sk-container-id-2 div.sk-toggleable__content.fitted {\n",
       "  /* fitted */\n",
       "  background-color: var(--sklearn-color-fitted-level-0);\n",
       "}\n",
       "\n",
       "#sk-container-id-2 div.sk-toggleable__content pre {\n",
       "  margin: 0.2em;\n",
       "  border-radius: 0.25em;\n",
       "  color: var(--sklearn-color-text);\n",
       "  /* unfitted */\n",
       "  background-color: var(--sklearn-color-unfitted-level-0);\n",
       "}\n",
       "\n",
       "#sk-container-id-2 div.sk-toggleable__content.fitted pre {\n",
       "  /* unfitted */\n",
       "  background-color: var(--sklearn-color-fitted-level-0);\n",
       "}\n",
       "\n",
       "#sk-container-id-2 input.sk-toggleable__control:checked~div.sk-toggleable__content {\n",
       "  /* Expand drop-down */\n",
       "  max-height: 200px;\n",
       "  max-width: 100%;\n",
       "  overflow: auto;\n",
       "}\n",
       "\n",
       "#sk-container-id-2 input.sk-toggleable__control:checked~label.sk-toggleable__label-arrow:before {\n",
       "  content: \"▾\";\n",
       "}\n",
       "\n",
       "/* Pipeline/ColumnTransformer-specific style */\n",
       "\n",
       "#sk-container-id-2 div.sk-label input.sk-toggleable__control:checked~label.sk-toggleable__label {\n",
       "  color: var(--sklearn-color-text);\n",
       "  background-color: var(--sklearn-color-unfitted-level-2);\n",
       "}\n",
       "\n",
       "#sk-container-id-2 div.sk-label.fitted input.sk-toggleable__control:checked~label.sk-toggleable__label {\n",
       "  background-color: var(--sklearn-color-fitted-level-2);\n",
       "}\n",
       "\n",
       "/* Estimator-specific style */\n",
       "\n",
       "/* Colorize estimator box */\n",
       "#sk-container-id-2 div.sk-estimator input.sk-toggleable__control:checked~label.sk-toggleable__label {\n",
       "  /* unfitted */\n",
       "  background-color: var(--sklearn-color-unfitted-level-2);\n",
       "}\n",
       "\n",
       "#sk-container-id-2 div.sk-estimator.fitted input.sk-toggleable__control:checked~label.sk-toggleable__label {\n",
       "  /* fitted */\n",
       "  background-color: var(--sklearn-color-fitted-level-2);\n",
       "}\n",
       "\n",
       "#sk-container-id-2 div.sk-label label.sk-toggleable__label,\n",
       "#sk-container-id-2 div.sk-label label {\n",
       "  /* The background is the default theme color */\n",
       "  color: var(--sklearn-color-text-on-default-background);\n",
       "}\n",
       "\n",
       "/* On hover, darken the color of the background */\n",
       "#sk-container-id-2 div.sk-label:hover label.sk-toggleable__label {\n",
       "  color: var(--sklearn-color-text);\n",
       "  background-color: var(--sklearn-color-unfitted-level-2);\n",
       "}\n",
       "\n",
       "/* Label box, darken color on hover, fitted */\n",
       "#sk-container-id-2 div.sk-label.fitted:hover label.sk-toggleable__label.fitted {\n",
       "  color: var(--sklearn-color-text);\n",
       "  background-color: var(--sklearn-color-fitted-level-2);\n",
       "}\n",
       "\n",
       "/* Estimator label */\n",
       "\n",
       "#sk-container-id-2 div.sk-label label {\n",
       "  font-family: monospace;\n",
       "  font-weight: bold;\n",
       "  display: inline-block;\n",
       "  line-height: 1.2em;\n",
       "}\n",
       "\n",
       "#sk-container-id-2 div.sk-label-container {\n",
       "  text-align: center;\n",
       "}\n",
       "\n",
       "/* Estimator-specific */\n",
       "#sk-container-id-2 div.sk-estimator {\n",
       "  font-family: monospace;\n",
       "  border: 1px dotted var(--sklearn-color-border-box);\n",
       "  border-radius: 0.25em;\n",
       "  box-sizing: border-box;\n",
       "  margin-bottom: 0.5em;\n",
       "  /* unfitted */\n",
       "  background-color: var(--sklearn-color-unfitted-level-0);\n",
       "}\n",
       "\n",
       "#sk-container-id-2 div.sk-estimator.fitted {\n",
       "  /* fitted */\n",
       "  background-color: var(--sklearn-color-fitted-level-0);\n",
       "}\n",
       "\n",
       "/* on hover */\n",
       "#sk-container-id-2 div.sk-estimator:hover {\n",
       "  /* unfitted */\n",
       "  background-color: var(--sklearn-color-unfitted-level-2);\n",
       "}\n",
       "\n",
       "#sk-container-id-2 div.sk-estimator.fitted:hover {\n",
       "  /* fitted */\n",
       "  background-color: var(--sklearn-color-fitted-level-2);\n",
       "}\n",
       "\n",
       "/* Specification for estimator info (e.g. \"i\" and \"?\") */\n",
       "\n",
       "/* Common style for \"i\" and \"?\" */\n",
       "\n",
       ".sk-estimator-doc-link,\n",
       "a:link.sk-estimator-doc-link,\n",
       "a:visited.sk-estimator-doc-link {\n",
       "  float: right;\n",
       "  font-size: smaller;\n",
       "  line-height: 1em;\n",
       "  font-family: monospace;\n",
       "  background-color: var(--sklearn-color-background);\n",
       "  border-radius: 1em;\n",
       "  height: 1em;\n",
       "  width: 1em;\n",
       "  text-decoration: none !important;\n",
       "  margin-left: 1ex;\n",
       "  /* unfitted */\n",
       "  border: var(--sklearn-color-unfitted-level-1) 1pt solid;\n",
       "  color: var(--sklearn-color-unfitted-level-1);\n",
       "}\n",
       "\n",
       ".sk-estimator-doc-link.fitted,\n",
       "a:link.sk-estimator-doc-link.fitted,\n",
       "a:visited.sk-estimator-doc-link.fitted {\n",
       "  /* fitted */\n",
       "  border: var(--sklearn-color-fitted-level-1) 1pt solid;\n",
       "  color: var(--sklearn-color-fitted-level-1);\n",
       "}\n",
       "\n",
       "/* On hover */\n",
       "div.sk-estimator:hover .sk-estimator-doc-link:hover,\n",
       ".sk-estimator-doc-link:hover,\n",
       "div.sk-label-container:hover .sk-estimator-doc-link:hover,\n",
       ".sk-estimator-doc-link:hover {\n",
       "  /* unfitted */\n",
       "  background-color: var(--sklearn-color-unfitted-level-3);\n",
       "  color: var(--sklearn-color-background);\n",
       "  text-decoration: none;\n",
       "}\n",
       "\n",
       "div.sk-estimator.fitted:hover .sk-estimator-doc-link.fitted:hover,\n",
       ".sk-estimator-doc-link.fitted:hover,\n",
       "div.sk-label-container:hover .sk-estimator-doc-link.fitted:hover,\n",
       ".sk-estimator-doc-link.fitted:hover {\n",
       "  /* fitted */\n",
       "  background-color: var(--sklearn-color-fitted-level-3);\n",
       "  color: var(--sklearn-color-background);\n",
       "  text-decoration: none;\n",
       "}\n",
       "\n",
       "/* Span, style for the box shown on hovering the info icon */\n",
       ".sk-estimator-doc-link span {\n",
       "  display: none;\n",
       "  z-index: 9999;\n",
       "  position: relative;\n",
       "  font-weight: normal;\n",
       "  right: .2ex;\n",
       "  padding: .5ex;\n",
       "  margin: .5ex;\n",
       "  width: min-content;\n",
       "  min-width: 20ex;\n",
       "  max-width: 50ex;\n",
       "  color: var(--sklearn-color-text);\n",
       "  box-shadow: 2pt 2pt 4pt #999;\n",
       "  /* unfitted */\n",
       "  background: var(--sklearn-color-unfitted-level-0);\n",
       "  border: .5pt solid var(--sklearn-color-unfitted-level-3);\n",
       "}\n",
       "\n",
       ".sk-estimator-doc-link.fitted span {\n",
       "  /* fitted */\n",
       "  background: var(--sklearn-color-fitted-level-0);\n",
       "  border: var(--sklearn-color-fitted-level-3);\n",
       "}\n",
       "\n",
       ".sk-estimator-doc-link:hover span {\n",
       "  display: block;\n",
       "}\n",
       "\n",
       "/* \"?\"-specific style due to the `<a>` HTML tag */\n",
       "\n",
       "#sk-container-id-2 a.estimator_doc_link {\n",
       "  float: right;\n",
       "  font-size: 1rem;\n",
       "  line-height: 1em;\n",
       "  font-family: monospace;\n",
       "  background-color: var(--sklearn-color-background);\n",
       "  border-radius: 1rem;\n",
       "  height: 1rem;\n",
       "  width: 1rem;\n",
       "  text-decoration: none;\n",
       "  /* unfitted */\n",
       "  color: var(--sklearn-color-unfitted-level-1);\n",
       "  border: var(--sklearn-color-unfitted-level-1) 1pt solid;\n",
       "}\n",
       "\n",
       "#sk-container-id-2 a.estimator_doc_link.fitted {\n",
       "  /* fitted */\n",
       "  border: var(--sklearn-color-fitted-level-1) 1pt solid;\n",
       "  color: var(--sklearn-color-fitted-level-1);\n",
       "}\n",
       "\n",
       "/* On hover */\n",
       "#sk-container-id-2 a.estimator_doc_link:hover {\n",
       "  /* unfitted */\n",
       "  background-color: var(--sklearn-color-unfitted-level-3);\n",
       "  color: var(--sklearn-color-background);\n",
       "  text-decoration: none;\n",
       "}\n",
       "\n",
       "#sk-container-id-2 a.estimator_doc_link.fitted:hover {\n",
       "  /* fitted */\n",
       "  background-color: var(--sklearn-color-fitted-level-3);\n",
       "}\n",
       "</style><div id=\"sk-container-id-2\" class=\"sk-top-container\"><div class=\"sk-text-repr-fallback\"><pre>OneHotEncoder(handle_unknown=&#x27;ignore&#x27;)</pre><b>In a Jupyter environment, please rerun this cell to show the HTML representation or trust the notebook. <br />On GitHub, the HTML representation is unable to render, please try loading this page with nbviewer.org.</b></div><div class=\"sk-container\" hidden><div class=\"sk-item\"><div class=\"sk-estimator fitted sk-toggleable\"><input class=\"sk-toggleable__control sk-hidden--visually\" id=\"sk-estimator-id-2\" type=\"checkbox\" checked><label for=\"sk-estimator-id-2\" class=\"sk-toggleable__label fitted sk-toggleable__label-arrow fitted\">&nbsp;&nbsp;OneHotEncoder<a class=\"sk-estimator-doc-link fitted\" rel=\"noreferrer\" target=\"_blank\" href=\"https://scikit-learn.org/1.4/modules/generated/sklearn.preprocessing.OneHotEncoder.html\">?<span>Documentation for OneHotEncoder</span></a><span class=\"sk-estimator-doc-link fitted\">i<span>Fitted</span></span></label><div class=\"sk-toggleable__content fitted\"><pre>OneHotEncoder(handle_unknown=&#x27;ignore&#x27;)</pre></div> </div></div></div></div>"
      ],
      "text/plain": [
       "OneHotEncoder(handle_unknown='ignore')"
      ]
     },
     "execution_count": 99,
     "metadata": {},
     "output_type": "execute_result"
    }
   ],
   "source": [
    "# Initialize the one hot encoder \n",
    "one_hot_encoder = OneHotEncoder(handle_unknown='ignore')\n",
    "one_hot_encoder.fit(unique_array.reshape(-1,1))\n",
    "# This step trains the \"one_hot_encoder\" to learn what words are in the \"universe\""
   ]
  },
  {
   "cell_type": "code",
   "execution_count": 115,
   "id": "2f27c070-a4d0-4879-ae6a-d0bbdabed2d6",
   "metadata": {},
   "outputs": [
    {
     "data": {
      "text/plain": [
       "[array(['alternative', 'better', 'birthday', 'black', 'boehner', 'catches',\n",
       "        'clerk', 'closest', 'code', 'come', 'debt', 'fear', 'former',\n",
       "        'grandchild', 'happy', 'ideas', 'j', 'k', 'listen', 'magical',\n",
       "        'minority', 'mom', 'mood', 'political', 'reduction', 'revival',\n",
       "        'roseanne', 'rowling', 'secret', 'series', 'shoppers', 'snape',\n",
       "        'son', 'starting', 'store', 'sues', 'thing', 'thorny', 'versace',\n",
       "        'wants', 'way', 'web', 'wife', 'wishes', 'worse'], dtype='<U11')]"
      ]
     },
     "execution_count": 115,
     "metadata": {},
     "output_type": "execute_result"
    }
   ],
   "source": [
    "# The trained module or the corresponding location of each \"category\" is below\n",
    "one_hot_encoder.categories_"
   ]
  },
  {
   "cell_type": "code",
   "execution_count": 109,
   "id": "c367afe0-af90-4e16-8d04-b6b69921a03c",
   "metadata": {},
   "outputs": [
    {
     "data": {
      "text/plain": [
       "array([['happy'],\n",
       "       ['wife'],\n",
       "       ['happy'],\n",
       "       ['life']], dtype='<U5')"
      ]
     },
     "execution_count": 109,
     "metadata": {},
     "output_type": "execute_result"
    }
   ],
   "source": [
    "test2 = \"happy wife happy life\"\n",
    "test2_for_transform = np.array(test2.split()).reshape(-1,1)\n",
    "test2_for_transform"
   ]
  },
  {
   "cell_type": "code",
   "execution_count": 110,
   "id": "9abbc30f-d064-4df8-a874-383566476673",
   "metadata": {},
   "outputs": [],
   "source": [
    "test2_encoded = one_hot_encoder.transform(test2_for_transform)"
   ]
  },
  {
   "cell_type": "code",
   "execution_count": 112,
   "id": "b5880275-2d65-465f-9a86-7fd70ce5f02c",
   "metadata": {},
   "outputs": [
    {
     "data": {
      "text/plain": [
       "matrix([[0., 0., 0., 0., 0., 0., 0., 0., 0., 0., 0., 0., 0., 0., 2., 0.,\n",
       "         0., 0., 0., 0., 0., 0., 0., 0., 0., 0., 0., 0., 0., 0., 0., 0.,\n",
       "         0., 0., 0., 0., 0., 0., 0., 0., 0., 0., 1., 0., 0.]])"
      ]
     },
     "execution_count": 112,
     "metadata": {},
     "output_type": "execute_result"
    }
   ],
   "source": [
    "np.sum(test2_encoded, axis=0)"
   ]
  },
  {
   "cell_type": "markdown",
   "id": "d45fae15-1992-4ae6-abf7-534768ec6257",
   "metadata": {},
   "source": [
    "**Here we see that the 43rd word is \"wife\" (appeared once) and 15th word is \"happy\" (appeared twice). The word \"life\" is unknown so it is ignored.**"
   ]
  },
  {
   "cell_type": "code",
   "execution_count": 119,
   "id": "f6525444-2af3-4415-841b-caabb0542942",
   "metadata": {},
   "outputs": [
    {
     "name": "stdout",
     "output_type": "stream",
     "text": [
      "Encoding sentence:  former versace store clerk sues secret black code minority shoppers\n",
      "Encoding sentence:  roseanne revival catches thorny political mood better worse\n",
      "Encoding sentence:  mom starting fear son web series closest thing grandchild\n",
      "Encoding sentence:  boehner wants wife listen come alternative debt reduction ideas\n",
      "Encoding sentence:  j k rowling wishes snape happy birthday magical way\n",
      "Encoding sentence:  wife wants son listen\n"
     ]
    }
   ],
   "source": [
    "for i in range(len(demo_examples_cleaned)):\n",
    "    sentence_i = demo_examples_cleaned[i]\n",
    "    print(\"Encoding sentence: \", sentence_i)\n",
    "    sentence_for_transform = np.array(sentence_i.split()).reshape(-1,1)\n",
    "    sentence_transformed = one_hot_encoder.transform(sentence_for_transform)\n",
    "    sentence_array = np.sum(sentence_transformed, axis=0)\n",
    "    if i==0:\n",
    "        encoded_demo_examples = sentence_array\n",
    "    else:\n",
    "        encoded_demo_examples = np.vstack([encoded_demo_examples, sentence_array])\n"
   ]
  },
  {
   "cell_type": "code",
   "execution_count": 121,
   "id": "08f15516-680d-4a10-9f9a-c8713fb02477",
   "metadata": {},
   "outputs": [
    {
     "data": {
      "text/plain": [
       "(6, 45)"
      ]
     },
     "execution_count": 121,
     "metadata": {},
     "output_type": "execute_result"
    }
   ],
   "source": [
    "encoded_demo_examples.shape"
   ]
  },
  {
   "cell_type": "code",
   "execution_count": 124,
   "id": "bdc4b95a-3145-463e-a454-9e5d104069cb",
   "metadata": {},
   "outputs": [
    {
     "data": {
      "text/plain": [
       "matrix([[1., 1., 1., 1., 1., 1., 1., 1., 1., 1., 1., 1., 1., 1., 1., 1.,\n",
       "         1., 1., 2., 1., 1., 1., 1., 1., 1., 1., 1., 1., 1., 1., 1., 1.,\n",
       "         2., 1., 1., 1., 1., 1., 1., 2., 1., 1., 2., 1., 1.]])"
      ]
     },
     "execution_count": 124,
     "metadata": {},
     "output_type": "execute_result"
    }
   ],
   "source": [
    "np.sum(encoded_demo_examples, axis=0)"
   ]
  },
  {
   "cell_type": "code",
   "execution_count": null,
   "id": "0ad2907c-692f-414d-9e6d-57be9e78572b",
   "metadata": {},
   "outputs": [],
   "source": []
  }
 ],
 "metadata": {
  "jupytext": {
   "formats": "ipynb,auto:light"
  },
  "kernelspec": {
   "display_name": "NLP Learning",
   "language": "python",
   "name": "nlp_learning"
  },
  "language_info": {
   "codemirror_mode": {
    "name": "ipython",
    "version": 3
   },
   "file_extension": ".py",
   "mimetype": "text/x-python",
   "name": "python",
   "nbconvert_exporter": "python",
   "pygments_lexer": "ipython3",
   "version": "3.11.1"
  }
 },
 "nbformat": 4,
 "nbformat_minor": 5
}
